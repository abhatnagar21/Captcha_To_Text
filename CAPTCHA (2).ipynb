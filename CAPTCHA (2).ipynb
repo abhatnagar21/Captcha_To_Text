{
  "nbformat": 4,
  "nbformat_minor": 0,
  "metadata": {
    "colab": {
      "provenance": []
    },
    "kernelspec": {
      "name": "python3",
      "display_name": "Python 3"
    },
    "language_info": {
      "name": "python"
    }
  },
  "cells": [
    {
      "cell_type": "code",
      "source": [
        "pip install captcha"
      ],
      "metadata": {
        "colab": {
          "base_uri": "https://localhost:8080/"
        },
        "id": "vcjaAfdGCMZl",
        "outputId": "ce3af9ef-2e27-462e-f9d9-bca7b4a31d07"
      },
      "execution_count": 1,
      "outputs": [
        {
          "output_type": "stream",
          "name": "stdout",
          "text": [
            "Collecting captcha\n",
            "  Downloading captcha-0.6.0-py3-none-any.whl.metadata (2.1 kB)\n",
            "Requirement already satisfied: Pillow in /usr/local/lib/python3.10/dist-packages (from captcha) (11.0.0)\n",
            "Downloading captcha-0.6.0-py3-none-any.whl (102 kB)\n",
            "\u001b[2K   \u001b[90m━━━━━━━━━━━━━━━━━━━━━━━━━━━━━━━━━━━━━━━━\u001b[0m \u001b[32m102.2/102.2 kB\u001b[0m \u001b[31m1.9 MB/s\u001b[0m eta \u001b[36m0:00:00\u001b[0m\n",
            "\u001b[?25hInstalling collected packages: captcha\n",
            "Successfully installed captcha-0.6.0\n"
          ]
        }
      ]
    },
    {
      "cell_type": "code",
      "source": [
        "import os\n",
        "import cv2\n",
        "import numpy as np\n",
        "import random\n",
        "import string\n",
        "from captcha.image import ImageCaptcha\n",
        "from tensorflow.keras.models import Sequential\n",
        "from tensorflow.keras.layers import Conv2D, MaxPooling2D, Flatten, Dense, Reshape, InputLayer\n",
        "from tensorflow.keras.utils import to_categorical"
      ],
      "metadata": {
        "id": "jYQM3sxHCNFw"
      },
      "execution_count": 2,
      "outputs": []
    },
    {
      "cell_type": "code",
      "source": [
        "#generate a random string of uppercase letters and digits with a specified length\n",
        "def random_text(length=5):\n",
        "    letters=string.ascii_uppercase + string.digits\n",
        "    return ''.join(random.choice(letters) for i in range(length))"
      ],
      "metadata": {
        "id": "sCWRzRfkCNIL"
      },
      "execution_count": 3,
      "outputs": []
    },
    {
      "cell_type": "code",
      "source": [
        "def generate_captcha_images(num_images=1000,output_dir='captchas'):\n",
        "    os.makedirs(output_dir,exist_ok=True)#make sure that capthcas directory exists\n",
        "    image = ImageCaptcha()#create an instance from captcha lib\n",
        "    for i in range(num_images):\n",
        "        text=random_text()#variable for random text funct\n",
        "        image.write(text,os.path.join(output_dir, f'{text}.png'))#save the image as the name of captcha in png\n",
        "generate_captcha_images()"
      ],
      "metadata": {
        "id": "kecrtDd0CNKf"
      },
      "execution_count": 5,
      "outputs": []
    },
    {
      "cell_type": "code",
      "source": [
        "'''def preprocess_image(image_path, img_width=100, img_height=40):\n",
        "    img=cv2.imread(image_path,cv2.IMREAD_GRAYSCALE)\n",
        "    img=cv2.resize(img,(img_width, img_height))\n",
        "    img=img/255.0#normalisation to [0, 1]\n",
        "    img=np.expand_dims(img, axis=-1)#adds another column to make it 3d at the last\n",
        "    return img'''\n",
        "def preprocess_image(image_path, img_width=100, img_height=40):\n",
        "    img = cv2.imread(image_path, cv2.IMREAD_GRAYSCALE)\n",
        "    if img is None:\n",
        "        raise ValueError(f\"Image at path {image_path} could not be loaded.\")\n",
        "    img = cv2.resize(img, (img_width, img_height))\n",
        "    img = img / 255.0  # Normalize to [0, 1]\n",
        "    img = np.expand_dims(img, axis=-1)\n",
        "    return img\n"
      ],
      "metadata": {
        "id": "xzKXXIanCNMm"
      },
      "execution_count": 26,
      "outputs": []
    },
    {
      "cell_type": "code",
      "source": [
        "def load_data(data_dir,img_width=100,img_height=40):\n",
        "    X,y=[],[]\n",
        "    for filename in os.listdir(data_dir):\n",
        "        if filename.endswith('.png'):\n",
        "            image_path=os.path.join(data_dir,filename)#updating image path\n",
        "            X.append(preprocess_image(image_path,img_width,img_height))\n",
        "            y.append(filename.split('.')[0])\n",
        "    return np.array(X), np.array(y)\n"
      ],
      "metadata": {
        "id": "uE2xwz6RCNO5"
      },
      "execution_count": 27,
      "outputs": []
    },
    {
      "cell_type": "code",
      "source": [
        "X,y=load_data('captchas')\n",
        "captcha_length=5\n",
        "num_classes=36\n",
        "char_list=string.ascii_uppercase+string.digits\n",
        "char_to_index={char: idx for idx, char in enumerate(char_list)}#dictionary that maps each character in char_list to a unique integer index"
      ],
      "metadata": {
        "id": "1OLLlieMCNRF"
      },
      "execution_count": 28,
      "outputs": []
    },
    {
      "cell_type": "code",
      "source": [
        "def encode_labels(labels,captcha_length,num_classes):\n",
        "    encoded=np.zeros((len(labels),captcha_length,num_classes),dtype=np.uint8)\n",
        "    for i, label in enumerate(labels):\n",
        "        for j, char in enumerate(label):\n",
        "            encoded[i,j,char_to_index[char]]=1\n",
        "    return encoded"
      ],
      "metadata": {
        "id": "mEMrNkPaCNUb"
      },
      "execution_count": 29,
      "outputs": []
    },
    {
      "cell_type": "code",
      "source": [
        "y_encoded=encode_labels(y,captcha_length,num_classes)"
      ],
      "metadata": {
        "id": "g5eU2LmwGZr-"
      },
      "execution_count": 30,
      "outputs": []
    },
    {
      "cell_type": "code",
      "source": [
        "def create_model(input_shape, captcha_length,num_classes):\n",
        "    model=Sequential()\n",
        "    model.add(InputLayer(input_shape=input_shape))\n",
        "    model.add(Conv2D(32,(3,3),activation='relu'))\n",
        "    model.add(MaxPooling2D(pool_size=(2,2)))\n",
        "    model.add(Conv2D(64, (3, 3),activation='relu'))\n",
        "    model.add(MaxPooling2D(pool_size=(2, 2)))\n",
        "    model.add(Flatten())\n",
        "    model.add(Dense(128,activation='relu'))\n",
        "    model.add(Dense(captcha_length*num_classes,activation='softmax'))\n",
        "    model.add(Reshape((captcha_length,num_classes)))\n",
        "    return model\n",
        "input_shape=(40,100,1)\n",
        "model=create_model(input_shape,captcha_length,num_classes)\n",
        "model.compile(optimizer='adam',loss='categorical_crossentropy',metrics=['accuracy'])\n",
        "model.fit(X,y_encoded,epochs=30,batch_size=32,validation_split=0.2)"
      ],
      "metadata": {
        "colab": {
          "base_uri": "https://localhost:8080/"
        },
        "id": "7KVl_CC5GZuT",
        "outputId": "721207ed-bcd0-4d83-f637-410160933759"
      },
      "execution_count": 31,
      "outputs": [
        {
          "output_type": "stream",
          "name": "stdout",
          "text": [
            "Epoch 1/30\n",
            "\u001b[1m25/25\u001b[0m \u001b[32m━━━━━━━━━━━━━━━━━━━━\u001b[0m\u001b[37m\u001b[0m \u001b[1m7s\u001b[0m 191ms/step - accuracy: 0.0277 - loss: 3.5938 - val_accuracy: 0.0300 - val_loss: 3.5841\n",
            "Epoch 2/30\n",
            "\u001b[1m25/25\u001b[0m \u001b[32m━━━━━━━━━━━━━━━━━━━━\u001b[0m\u001b[37m\u001b[0m \u001b[1m4s\u001b[0m 148ms/step - accuracy: 0.0326 - loss: 3.5804 - val_accuracy: 0.0320 - val_loss: 3.5853\n",
            "Epoch 3/30\n",
            "\u001b[1m25/25\u001b[0m \u001b[32m━━━━━━━━━━━━━━━━━━━━\u001b[0m\u001b[37m\u001b[0m \u001b[1m6s\u001b[0m 206ms/step - accuracy: 0.0359 - loss: 3.5760 - val_accuracy: 0.0390 - val_loss: 3.5843\n",
            "Epoch 4/30\n",
            "\u001b[1m25/25\u001b[0m \u001b[32m━━━━━━━━━━━━━━━━━━━━\u001b[0m\u001b[37m\u001b[0m \u001b[1m4s\u001b[0m 160ms/step - accuracy: 0.0340 - loss: 3.5752 - val_accuracy: 0.0310 - val_loss: 3.5912\n",
            "Epoch 5/30\n",
            "\u001b[1m25/25\u001b[0m \u001b[32m━━━━━━━━━━━━━━━━━━━━\u001b[0m\u001b[37m\u001b[0m \u001b[1m4s\u001b[0m 154ms/step - accuracy: 0.0385 - loss: 3.5682 - val_accuracy: 0.0360 - val_loss: 3.5878\n",
            "Epoch 6/30\n",
            "\u001b[1m25/25\u001b[0m \u001b[32m━━━━━━━━━━━━━━━━━━━━\u001b[0m\u001b[37m\u001b[0m \u001b[1m4s\u001b[0m 164ms/step - accuracy: 0.0409 - loss: 3.5659 - val_accuracy: 0.0230 - val_loss: 3.5878\n",
            "Epoch 7/30\n",
            "\u001b[1m25/25\u001b[0m \u001b[32m━━━━━━━━━━━━━━━━━━━━\u001b[0m\u001b[37m\u001b[0m \u001b[1m5s\u001b[0m 153ms/step - accuracy: 0.0357 - loss: 3.5646 - val_accuracy: 0.0250 - val_loss: 3.5858\n",
            "Epoch 8/30\n",
            "\u001b[1m25/25\u001b[0m \u001b[32m━━━━━━━━━━━━━━━━━━━━\u001b[0m\u001b[37m\u001b[0m \u001b[1m5s\u001b[0m 149ms/step - accuracy: 0.0367 - loss: 3.5694 - val_accuracy: 0.0210 - val_loss: 3.5958\n",
            "Epoch 9/30\n",
            "\u001b[1m25/25\u001b[0m \u001b[32m━━━━━━━━━━━━━━━━━━━━\u001b[0m\u001b[37m\u001b[0m \u001b[1m7s\u001b[0m 209ms/step - accuracy: 0.0391 - loss: 3.5641 - val_accuracy: 0.0290 - val_loss: 3.5891\n",
            "Epoch 10/30\n",
            "\u001b[1m25/25\u001b[0m \u001b[32m━━━━━━━━━━━━━━━━━━━━\u001b[0m\u001b[37m\u001b[0m \u001b[1m9s\u001b[0m 155ms/step - accuracy: 0.0406 - loss: 3.5624 - val_accuracy: 0.0290 - val_loss: 3.5869\n",
            "Epoch 11/30\n",
            "\u001b[1m25/25\u001b[0m \u001b[32m━━━━━━━━━━━━━━━━━━━━\u001b[0m\u001b[37m\u001b[0m \u001b[1m5s\u001b[0m 215ms/step - accuracy: 0.0360 - loss: 3.5689 - val_accuracy: 0.0220 - val_loss: 3.5985\n",
            "Epoch 12/30\n",
            "\u001b[1m25/25\u001b[0m \u001b[32m━━━━━━━━━━━━━━━━━━━━\u001b[0m\u001b[37m\u001b[0m \u001b[1m9s\u001b[0m 154ms/step - accuracy: 0.0371 - loss: 3.5636 - val_accuracy: 0.0290 - val_loss: 3.5867\n",
            "Epoch 13/30\n",
            "\u001b[1m25/25\u001b[0m \u001b[32m━━━━━━━━━━━━━━━━━━━━\u001b[0m\u001b[37m\u001b[0m \u001b[1m5s\u001b[0m 212ms/step - accuracy: 0.0407 - loss: 3.5644 - val_accuracy: 0.0290 - val_loss: 3.5927\n",
            "Epoch 14/30\n",
            "\u001b[1m25/25\u001b[0m \u001b[32m━━━━━━━━━━━━━━━━━━━━\u001b[0m\u001b[37m\u001b[0m \u001b[1m4s\u001b[0m 144ms/step - accuracy: 0.0397 - loss: 3.5687 - val_accuracy: 0.0280 - val_loss: 3.5993\n",
            "Epoch 15/30\n",
            "\u001b[1m25/25\u001b[0m \u001b[32m━━━━━━━━━━━━━━━━━━━━\u001b[0m\u001b[37m\u001b[0m \u001b[1m5s\u001b[0m 152ms/step - accuracy: 0.0397 - loss: 3.5583 - val_accuracy: 0.0310 - val_loss: 3.5856\n",
            "Epoch 16/30\n",
            "\u001b[1m25/25\u001b[0m \u001b[32m━━━━━━━━━━━━━━━━━━━━\u001b[0m\u001b[37m\u001b[0m \u001b[1m6s\u001b[0m 168ms/step - accuracy: 0.0402 - loss: 3.5647 - val_accuracy: 0.0300 - val_loss: 3.5911\n",
            "Epoch 17/30\n",
            "\u001b[1m25/25\u001b[0m \u001b[32m━━━━━━━━━━━━━━━━━━━━\u001b[0m\u001b[37m\u001b[0m \u001b[1m5s\u001b[0m 149ms/step - accuracy: 0.0414 - loss: 3.5615 - val_accuracy: 0.0260 - val_loss: 3.5910\n",
            "Epoch 18/30\n",
            "\u001b[1m25/25\u001b[0m \u001b[32m━━━━━━━━━━━━━━━━━━━━\u001b[0m\u001b[37m\u001b[0m \u001b[1m5s\u001b[0m 187ms/step - accuracy: 0.0422 - loss: 3.5628 - val_accuracy: 0.0240 - val_loss: 3.5910\n",
            "Epoch 19/30\n",
            "\u001b[1m25/25\u001b[0m \u001b[32m━━━━━━━━━━━━━━━━━━━━\u001b[0m\u001b[37m\u001b[0m \u001b[1m4s\u001b[0m 150ms/step - accuracy: 0.0390 - loss: 3.5617 - val_accuracy: 0.0240 - val_loss: 3.5903\n",
            "Epoch 20/30\n",
            "\u001b[1m25/25\u001b[0m \u001b[32m━━━━━━━━━━━━━━━━━━━━\u001b[0m\u001b[37m\u001b[0m \u001b[1m5s\u001b[0m 145ms/step - accuracy: 0.0343 - loss: 3.5631 - val_accuracy: 0.0310 - val_loss: 3.5966\n",
            "Epoch 21/30\n",
            "\u001b[1m25/25\u001b[0m \u001b[32m━━━━━━━━━━━━━━━━━━━━\u001b[0m\u001b[37m\u001b[0m \u001b[1m5s\u001b[0m 207ms/step - accuracy: 0.0395 - loss: 3.5644 - val_accuracy: 0.0260 - val_loss: 3.5918\n",
            "Epoch 22/30\n",
            "\u001b[1m25/25\u001b[0m \u001b[32m━━━━━━━━━━━━━━━━━━━━\u001b[0m\u001b[37m\u001b[0m \u001b[1m4s\u001b[0m 150ms/step - accuracy: 0.0365 - loss: 3.5661 - val_accuracy: 0.0210 - val_loss: 3.5966\n",
            "Epoch 23/30\n",
            "\u001b[1m25/25\u001b[0m \u001b[32m━━━━━━━━━━━━━━━━━━━━\u001b[0m\u001b[37m\u001b[0m \u001b[1m4s\u001b[0m 148ms/step - accuracy: 0.0434 - loss: 3.5667 - val_accuracy: 0.0240 - val_loss: 3.5967\n",
            "Epoch 24/30\n",
            "\u001b[1m25/25\u001b[0m \u001b[32m━━━━━━━━━━━━━━━━━━━━\u001b[0m\u001b[37m\u001b[0m \u001b[1m6s\u001b[0m 191ms/step - accuracy: 0.0427 - loss: 3.5625 - val_accuracy: 0.0280 - val_loss: 3.5905\n",
            "Epoch 25/30\n",
            "\u001b[1m25/25\u001b[0m \u001b[32m━━━━━━━━━━━━━━━━━━━━\u001b[0m\u001b[37m\u001b[0m \u001b[1m4s\u001b[0m 143ms/step - accuracy: 0.0356 - loss: 3.5617 - val_accuracy: 0.0230 - val_loss: 3.5915\n",
            "Epoch 26/30\n",
            "\u001b[1m25/25\u001b[0m \u001b[32m━━━━━━━━━━━━━━━━━━━━\u001b[0m\u001b[37m\u001b[0m \u001b[1m5s\u001b[0m 144ms/step - accuracy: 0.0424 - loss: 3.5570 - val_accuracy: 0.0280 - val_loss: 3.5908\n",
            "Epoch 27/30\n",
            "\u001b[1m25/25\u001b[0m \u001b[32m━━━━━━━━━━━━━━━━━━━━\u001b[0m\u001b[37m\u001b[0m \u001b[1m5s\u001b[0m 216ms/step - accuracy: 0.0491 - loss: 3.5517 - val_accuracy: 0.0280 - val_loss: 3.5933\n",
            "Epoch 28/30\n",
            "\u001b[1m25/25\u001b[0m \u001b[32m━━━━━━━━━━━━━━━━━━━━\u001b[0m\u001b[37m\u001b[0m \u001b[1m9s\u001b[0m 146ms/step - accuracy: 0.0547 - loss: 3.5414 - val_accuracy: 0.0280 - val_loss: 3.5880\n",
            "Epoch 29/30\n",
            "\u001b[1m25/25\u001b[0m \u001b[32m━━━━━━━━━━━━━━━━━━━━\u001b[0m\u001b[37m\u001b[0m \u001b[1m6s\u001b[0m 250ms/step - accuracy: 0.0581 - loss: 3.5150 - val_accuracy: 0.0270 - val_loss: 3.5855\n",
            "Epoch 30/30\n",
            "\u001b[1m25/25\u001b[0m \u001b[32m━━━━━━━━━━━━━━━━━━━━\u001b[0m\u001b[37m\u001b[0m \u001b[1m8s\u001b[0m 149ms/step - accuracy: 0.0783 - loss: 3.4822 - val_accuracy: 0.0420 - val_loss: 3.6077\n"
          ]
        },
        {
          "output_type": "execute_result",
          "data": {
            "text/plain": [
              "<keras.src.callbacks.history.History at 0x79973070f970>"
            ]
          },
          "metadata": {},
          "execution_count": 31
        }
      ]
    },
    {
      "cell_type": "code",
      "source": [
        "def decode_captcha(model,image_path,char_list,char_to_index):\n",
        "    img=preprocess_image(image_path)\n",
        "    img=np.expand_dims(img, axis=0)\n",
        "    prediction=model.predict(img)\n",
        "    decoded_text=''.join([char_list[np.argmax(char)] for char in prediction[0]])\n",
        "    return decoded_text"
      ],
      "metadata": {
        "id": "2l-Q5NdMGZw1"
      },
      "execution_count": 32,
      "outputs": []
    },
    {
      "cell_type": "code",
      "source": [
        "index_to_char={idx: char for char,idx in char_to_index.items()}\n"
      ],
      "metadata": {
        "id": "MYhEWp-5GZz4"
      },
      "execution_count": 33,
      "outputs": []
    },
    {
      "cell_type": "code",
      "source": [
        "captcha_image_path='/content/captchas/19Q0X.png'\n",
        "decoded_text=decode_captcha(model,captcha_image_path,index_to_char, char_to_index)\n",
        "print(f'Decoded CAPTCHA text: {decoded_text}')"
      ],
      "metadata": {
        "colab": {
          "base_uri": "https://localhost:8080/"
        },
        "id": "Mn80L80yGZ3W",
        "outputId": "3a47ac82-1ae3-44b4-dcb7-f6130782da66"
      },
      "execution_count": 36,
      "outputs": [
        {
          "output_type": "stream",
          "name": "stdout",
          "text": [
            "\u001b[1m1/1\u001b[0m \u001b[32m━━━━━━━━━━━━━━━━━━━━\u001b[0m\u001b[37m\u001b[0m \u001b[1m0s\u001b[0m 80ms/step\n",
            "Decoded CAPTCHA text: A54MF\n"
          ]
        }
      ]
    }
  ]
}