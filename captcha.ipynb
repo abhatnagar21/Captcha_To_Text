{
  "nbformat": 4,
  "nbformat_minor": 0,
  "metadata": {
    "colab": {
      "provenance": []
    },
    "kernelspec": {
      "name": "python3",
      "display_name": "Python 3"
    },
    "language_info": {
      "name": "python"
    }
  },
  "cells": [
    {
      "cell_type": "code",
      "source": [
        "pip install captcha"
      ],
      "metadata": {
        "colab": {
          "base_uri": "https://localhost:8080/"
        },
        "id": "w4No3_firlXy",
        "outputId": "9e7a5a97-d34c-4acd-d7dd-ebb01cd912b0"
      },
      "execution_count": 16,
      "outputs": [
        {
          "output_type": "stream",
          "name": "stdout",
          "text": [
            "Requirement already satisfied: captcha in /usr/local/lib/python3.10/dist-packages (0.5.0)\n",
            "Requirement already satisfied: Pillow in /usr/local/lib/python3.10/dist-packages (from captcha) (9.4.0)\n"
          ]
        }
      ]
    },
    {
      "cell_type": "code",
      "source": [
        "import os\n",
        "import cv2\n",
        "import numpy as np\n",
        "import random\n",
        "import string\n",
        "from captcha.image import ImageCaptcha\n",
        "from tensorflow.keras.models import Sequential\n",
        "from tensorflow.keras.layers import Conv2D, MaxPooling2D, Flatten, Dense, Reshape, InputLayer\n",
        "from tensorflow.keras.utils import to_categorical"
      ],
      "metadata": {
        "id": "e_1HmZGvsXpX"
      },
      "execution_count": 17,
      "outputs": []
    },
    {
      "cell_type": "code",
      "source": [
        "def random_text(length=5):\n",
        "    letters = string.ascii_uppercase + string.digits\n",
        "    return ''.join(random.choice(letters) for i in range(length))\n",
        "\n",
        "def generate_captcha_images(num_images=1000, output_dir='captchas'):\n",
        "    os.makedirs(output_dir, exist_ok=True)\n",
        "    image = ImageCaptcha()\n",
        "\n",
        "    for i in range(num_images):\n",
        "        text = random_text()\n",
        "        image.write(text, os.path.join(output_dir, f'{text}.png'))\n",
        "\n",
        "generate_captcha_images()\n"
      ],
      "metadata": {
        "id": "7WVpOVvJsYnF"
      },
      "execution_count": 18,
      "outputs": []
    },
    {
      "cell_type": "code",
      "source": [
        "def preprocess_image(image_path, img_width=100, img_height=40):\n",
        "    img = cv2.imread(image_path, cv2.IMREAD_GRAYSCALE)\n",
        "    img = cv2.resize(img, (img_width, img_height))\n",
        "    img = img / 255.0  # Normalize to [0, 1]\n",
        "    img = np.expand_dims(img, axis=-1)\n",
        "    return img\n",
        "\n",
        "def load_data(data_dir, img_width=100, img_height=40):\n",
        "    X, y = [], []\n",
        "    for filename in os.listdir(data_dir):\n",
        "        if filename.endswith('.png'):\n",
        "            image_path = os.path.join(data_dir, filename)\n",
        "            X.append(preprocess_image(image_path, img_width, img_height))\n",
        "            y.append(filename.split('.')[0])  # Extract label from filename\n",
        "\n",
        "    return np.array(X), np.array(y)\n",
        "\n",
        "X, y = load_data('captchas')\n"
      ],
      "metadata": {
        "id": "5sS6thKKsdr5"
      },
      "execution_count": 19,
      "outputs": []
    },
    {
      "cell_type": "code",
      "source": [
        "# 3. Encode labels\n",
        "captcha_length = 5\n",
        "num_classes = 36\n",
        "char_list = string.ascii_uppercase + string.digits\n",
        "char_to_index = {char: idx for idx, char in enumerate(char_list)}\n",
        "\n",
        "def encode_labels(labels, captcha_length, num_classes):\n",
        "    encoded = np.zeros((len(labels), captcha_length, num_classes), dtype=np.uint8)\n",
        "    for i, label in enumerate(labels):\n",
        "        for j, char in enumerate(label):\n",
        "            encoded[i, j, char_to_index[char]] = 1\n",
        "    return encoded\n",
        "\n",
        "y_encoded = encode_labels(y, captcha_length, num_classes)"
      ],
      "metadata": {
        "id": "CcTXraP6sjCq"
      },
      "execution_count": 20,
      "outputs": []
    },
    {
      "cell_type": "code",
      "source": [
        "# 4. Create and compile model\n",
        "def create_model(input_shape, captcha_length, num_classes):\n",
        "    model = Sequential()\n",
        "    model.add(InputLayer(input_shape=input_shape))\n",
        "    model.add(Conv2D(32, (3, 3), activation='relu'))\n",
        "    model.add(MaxPooling2D(pool_size=(2, 2)))\n",
        "    model.add(Conv2D(64, (3, 3), activation='relu'))\n",
        "    model.add(MaxPooling2D(pool_size=(2, 2)))\n",
        "    model.add(Flatten())\n",
        "    model.add(Dense(128, activation='relu'))\n",
        "    model.add(Dense(captcha_length * num_classes, activation='softmax'))\n",
        "    model.add(Reshape((captcha_length, num_classes)))\n",
        "    return model\n",
        "\n",
        "input_shape = (40, 100, 1)\n",
        "model = create_model(input_shape, captcha_length, num_classes)\n",
        "model.compile(optimizer='adam', loss='categorical_crossentropy', metrics=['accuracy'])\n"
      ],
      "metadata": {
        "id": "Wf5_kz-esmTo"
      },
      "execution_count": 21,
      "outputs": []
    },
    {
      "cell_type": "code",
      "source": [
        "# 5. Train the model\n",
        "model.fit(X, y_encoded, epochs=30, batch_size=32, validation_split=0.2)"
      ],
      "metadata": {
        "colab": {
          "base_uri": "https://localhost:8080/"
        },
        "id": "SoUUaM6FsqV2",
        "outputId": "4e5aa060-43c7-44a8-97b9-d4fed87da4c5"
      },
      "execution_count": 35,
      "outputs": [
        {
          "output_type": "stream",
          "name": "stdout",
          "text": [
            "Epoch 1/30\n",
            "75/75 [==============================] - 11s 153ms/step - loss: 0.1032 - accuracy: 0.9881 - val_loss: 6.7726 - val_accuracy: 0.1880\n",
            "Epoch 2/30\n",
            "75/75 [==============================] - 11s 144ms/step - loss: 0.0758 - accuracy: 0.9945 - val_loss: 7.0403 - val_accuracy: 0.1907\n",
            "Epoch 3/30\n",
            "75/75 [==============================] - 10s 135ms/step - loss: 0.0541 - accuracy: 0.9977 - val_loss: 7.1560 - val_accuracy: 0.1860\n",
            "Epoch 4/30\n",
            "75/75 [==============================] - 11s 153ms/step - loss: 0.0405 - accuracy: 0.9993 - val_loss: 7.3570 - val_accuracy: 0.1900\n",
            "Epoch 5/30\n",
            "75/75 [==============================] - 12s 154ms/step - loss: 0.0309 - accuracy: 0.9997 - val_loss: 7.5212 - val_accuracy: 0.1877\n",
            "Epoch 6/30\n",
            "75/75 [==============================] - 11s 150ms/step - loss: 0.0246 - accuracy: 0.9998 - val_loss: 7.6012 - val_accuracy: 0.1917\n",
            "Epoch 7/30\n",
            "75/75 [==============================] - 10s 128ms/step - loss: 0.0203 - accuracy: 0.9999 - val_loss: 7.7510 - val_accuracy: 0.1893\n",
            "Epoch 8/30\n",
            "75/75 [==============================] - 11s 154ms/step - loss: 0.0169 - accuracy: 1.0000 - val_loss: 7.8677 - val_accuracy: 0.1887\n",
            "Epoch 9/30\n",
            "75/75 [==============================] - 12s 155ms/step - loss: 0.0146 - accuracy: 1.0000 - val_loss: 7.9625 - val_accuracy: 0.1890\n",
            "Epoch 10/30\n",
            "75/75 [==============================] - 11s 154ms/step - loss: 0.0128 - accuracy: 1.0000 - val_loss: 8.0337 - val_accuracy: 0.1927\n",
            "Epoch 11/30\n",
            "75/75 [==============================] - 10s 129ms/step - loss: 0.0113 - accuracy: 1.0000 - val_loss: 8.1162 - val_accuracy: 0.1913\n",
            "Epoch 12/30\n",
            "75/75 [==============================] - 11s 150ms/step - loss: 0.0100 - accuracy: 1.0000 - val_loss: 8.1968 - val_accuracy: 0.1910\n",
            "Epoch 13/30\n",
            "75/75 [==============================] - 11s 153ms/step - loss: 0.0090 - accuracy: 1.0000 - val_loss: 8.2810 - val_accuracy: 0.1887\n",
            "Epoch 14/30\n",
            "75/75 [==============================] - 11s 150ms/step - loss: 0.0081 - accuracy: 1.0000 - val_loss: 8.3385 - val_accuracy: 0.1920\n",
            "Epoch 15/30\n",
            "75/75 [==============================] - 10s 136ms/step - loss: 0.0073 - accuracy: 1.0000 - val_loss: 8.3981 - val_accuracy: 0.1873\n",
            "Epoch 16/30\n",
            "75/75 [==============================] - 11s 143ms/step - loss: 0.0066 - accuracy: 1.0000 - val_loss: 8.4466 - val_accuracy: 0.1880\n",
            "Epoch 17/30\n",
            "75/75 [==============================] - 12s 154ms/step - loss: 0.0060 - accuracy: 1.0000 - val_loss: 8.5051 - val_accuracy: 0.1883\n",
            "Epoch 18/30\n",
            "75/75 [==============================] - 11s 153ms/step - loss: 0.0055 - accuracy: 1.0000 - val_loss: 8.5494 - val_accuracy: 0.1877\n",
            "Epoch 19/30\n",
            "75/75 [==============================] - 10s 137ms/step - loss: 0.0051 - accuracy: 1.0000 - val_loss: 8.6044 - val_accuracy: 0.1910\n",
            "Epoch 20/30\n",
            "75/75 [==============================] - 11s 142ms/step - loss: 0.0047 - accuracy: 1.0000 - val_loss: 8.6584 - val_accuracy: 0.1887\n",
            "Epoch 21/30\n",
            "75/75 [==============================] - 11s 153ms/step - loss: 0.0044 - accuracy: 1.0000 - val_loss: 8.6923 - val_accuracy: 0.1893\n",
            "Epoch 22/30\n",
            "75/75 [==============================] - 11s 153ms/step - loss: 0.0040 - accuracy: 1.0000 - val_loss: 8.7334 - val_accuracy: 0.1883\n",
            "Epoch 23/30\n",
            "75/75 [==============================] - 11s 141ms/step - loss: 0.0037 - accuracy: 1.0000 - val_loss: 8.7853 - val_accuracy: 0.1883\n",
            "Epoch 24/30\n",
            "75/75 [==============================] - 10s 136ms/step - loss: 0.0034 - accuracy: 1.0000 - val_loss: 8.8246 - val_accuracy: 0.1890\n",
            "Epoch 25/30\n",
            "75/75 [==============================] - 11s 152ms/step - loss: 0.0032 - accuracy: 1.0000 - val_loss: 8.8663 - val_accuracy: 0.1860\n",
            "Epoch 26/30\n",
            "75/75 [==============================] - 12s 155ms/step - loss: 0.0030 - accuracy: 1.0000 - val_loss: 8.9010 - val_accuracy: 0.1877\n",
            "Epoch 27/30\n",
            "75/75 [==============================] - 11s 150ms/step - loss: 0.0028 - accuracy: 1.0000 - val_loss: 8.9510 - val_accuracy: 0.1893\n",
            "Epoch 28/30\n",
            "75/75 [==============================] - 10s 132ms/step - loss: 0.0026 - accuracy: 1.0000 - val_loss: 8.9874 - val_accuracy: 0.1890\n",
            "Epoch 29/30\n",
            "75/75 [==============================] - 11s 152ms/step - loss: 0.0024 - accuracy: 1.0000 - val_loss: 9.0452 - val_accuracy: 0.1873\n",
            "Epoch 30/30\n",
            "75/75 [==============================] - 12s 154ms/step - loss: 0.0022 - accuracy: 1.0000 - val_loss: 9.0983 - val_accuracy: 0.1857\n"
          ]
        },
        {
          "output_type": "execute_result",
          "data": {
            "text/plain": [
              "<keras.src.callbacks.History at 0x7b4bfd7236a0>"
            ]
          },
          "metadata": {},
          "execution_count": 35
        }
      ]
    },
    {
      "cell_type": "code",
      "source": [
        "# 6. Decode new CAPTCHA\n",
        "def decode_captcha(model, image_path, char_list, char_to_index):\n",
        "    img = preprocess_image(image_path)\n",
        "    img = np.expand_dims(img, axis=0)\n",
        "    prediction = model.predict(img)\n",
        "    decoded_text = ''.join([char_list[np.argmax(char)] for char in prediction[0]])\n",
        "    return decoded_text\n",
        "\n",
        "index_to_char = {idx: char for char, idx in char_to_index.items()}\n",
        "\n",
        "captcha_image_path = '0121Q.png'\n",
        "decoded_text = decode_captcha(model, captcha_image_path, index_to_char, char_to_index)\n",
        "print(f'Decoded CAPTCHA text: {decoded_text}')"
      ],
      "metadata": {
        "colab": {
          "base_uri": "https://localhost:8080/"
        },
        "id": "jemAa-ZTtKXz",
        "outputId": "dd8f55ad-1247-4c56-b1d1-19c30c202e28"
      },
      "execution_count": 40,
      "outputs": [
        {
          "output_type": "stream",
          "name": "stdout",
          "text": [
            "1/1 [==============================] - 0s 22ms/step\n",
            "Decoded CAPTCHA text: 0121Q\n"
          ]
        }
      ]
    }
  ]
}